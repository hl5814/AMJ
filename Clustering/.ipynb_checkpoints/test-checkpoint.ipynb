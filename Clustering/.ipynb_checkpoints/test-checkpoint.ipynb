{
 "cells": [
  {
   "cell_type": "code",
   "execution_count": 136,
   "metadata": {},
   "outputs": [],
   "source": [
    "# needed imports\n",
    "from matplotlib import pyplot as plt\n",
    "from scipy.cluster.hierarchy import dendrogram, linkage, fcluster\n",
    "import numpy as np"
   ]
  },
  {
   "cell_type": "code",
   "execution_count": 243,
   "metadata": {},
   "outputs": [
    {
     "ename": "SyntaxError",
     "evalue": "invalid syntax (<ipython-input-243-dab094f29b7c>, line 13)",
     "output_type": "error",
     "traceback": [
      "\u001b[0;36m  File \u001b[0;32m\"<ipython-input-243-dab094f29b7c>\"\u001b[0;36m, line \u001b[0;32m13\u001b[0m\n\u001b[0;31m    Raw =\u001b[0m\n\u001b[0m         ^\u001b[0m\n\u001b[0;31mSyntaxError\u001b[0m\u001b[0;31m:\u001b[0m invalid syntax\n"
     ]
    }
   ],
   "source": [
    "# [InitVariable\",\n",
    "#\"AssignWithFuncCall\",\n",
    "#\"AssignWithBitOperation\",\n",
    "#\"PreFunctionObfuscation\",\n",
    "#\"StringConcatation\",\n",
    "#\"MaliciousFunctionCall\",\n",
    "#\"FuncCallOnBinaryExpr\",\n",
    "#\"FuncCallOnUnaryExpr\",\n",
    "#\"FuncCallOnStringVariable\",\n",
    "#\"FuncCallOnCallExpr\",\n",
    "#\"NonLocalArrayAccess\",\n",
    "#\"htmlCommentInScriptBlock\"]\n",
    "dataArray =[ \n",
    "  [ 13, 17, 0, 0, 25, 2, 0, 0, 7, 0, 0, 0 ]\n",
    ", [ 0, 0, 0, 0, 1, 0, 0, 0, 0, 1, 0, 0 ]\n",
    ", [ 0, 0, 0, 0, 0, 2, 1, 0, 1, 0, 0, 0 ]\n",
    ", [ 0, 0, 0, 0, 1, 0, 0, 0, 0, 1, 0, 0 ]\n",
    ", [ 0, 0, 0, 0, 0, 1, 0, 0, 0, 1, 0, 0 ]\n",
    ", [ 5, 4, 0, 0, 5, 0, 0, 0, 0, 0, 0, 0 ]\n",
    ", [ 0, 0, 0, 0, 0, 1, 0, 0, 1, 0, 0, 1 ]\n",
    ", [ 1, 4, 0, 0, 0, 3, 0, 0, 1, 0, 0, 0 ]\n",
    ", [ 0, 0, 0, 0, 0, 0, 0, 0, 0, 1, 0, 0 ]\n",
    ", [ 0, 0, 0, 0, 0, 2, 1, 0, 1, 0, 0, 0 ]\n",
    ", [ 9, 16, 6, 0, 0, 2, 0, 0, 14, 1, 7, 0 ]\n",
    ", [ 0, 0, 0, 0, 1, 0, 0, 0, 0, 1, 0, 0 ]\n",
    ", [ 0, 0, 0, 0, 0, 0, 0, 0, 1, 0, 0, 1 ]\n",
    ", [ 19, 23, 0, 0, 26, 8, 1, 0, 33, 0, 0, 0 ]\n",
    ", [ 0, 10, 0, 0, 1, 5, 0, 0, 1, 0, 0, 0 ]\n",
    ", [ 6, 1, 0, 0, 12, 0, 0, 0, 7, 0, 0, 0 ]\n",
    ", [ 0, 4, 0, 0, 0, 3, 0, 0, 1, 0, 0, 0 ]\n",
    ", [ 0, 5, 3, 0, 0, 4, 1, 0, 1, 1, 0, 1 ]\n",
    ", [ 2, 2, 2, 0, 0, 5, 0, 0, 4, 0, 0, 0 ]\n",
    ", [ 0, 0, 0, 0, 0, 0, 0, 0, 1, 0, 0, 0 ]\n",
    ", [ 6, 0, 0, 0, 3, 1, 0, 0, 1, 0, 0, 0 ]\n",
    ", [ 1, 2, 1, 0, 0, 2, 1, 0, 2, 0, 0, 0 ]\n",
    ", [ 0, 0, 0, 0, 0, 0, 0, 0, 0, 0, 0, 0 ]\n",
    ", [ 1, 9, 0, 0, 3, 8, 0, 0, 0, 0, 0, 0 ]\n",
    ", [ 4, 2, 0, 0, 1, 0, 0, 0, 1, 0, 0, 0 ]\n",
    ", [ 0, 1, 0, 0, 0, 11, 0, 0, 0, 5, 0, 0 ]\n",
    ", [ 1, 2, 1, 0, 0, 1, 1, 0, 1, 0, 0, 0 ]\n",
    ", [ 10, 3, 0, 0, 9, 0, 0, 0, 0, 0, 0, 0 ]\n",
    ", [ 4, 0, 0, 2, 2, 0, 1, 0, 0, 0, 0, 0 ]\n",
    ", [ 1, 9, 0, 0, 4, 8, 0, 0, 0, 0, 0, 0 ]\n",
    ", [ 5, 0, 0, 0, 3, 0, 0, 0, 0, 0, 0, 0 ]\n",
    ", [ 0, 0, 0, 0, 1, 0, 0, 0, 0, 1, 0, 0 ]\n",
    ", [ 0, 0, 0, 0, 0, 0, 0, 0, 0, 0, 0, 0 ]\n",
    ", [ 0, 0, 0, 0, 0, 0, 0, 0, 0, 1, 0, 0 ]\n",
    ", [ 9, 3, 0, 0, 8, 0, 0, 0, 0, 0, 0, 0 ]\n",
    ", [ 4, 3, 0, 0, 1, 0, 0, 0, 0, 0, 0, 0 ]\n",
    ", [ 36, 74, 0, 0, 0, 9, 2, 0, 7, 0, 0, 0 ]\n",
    ", [ 2, 3, 0, 0, 1, 1, 0, 0, 0, 0, 0, 0 ]\n",
    ", [ 3, 2, 0, 0, 1, 0, 0, 0, 0, 0, 0, 0 ]\n",
    ", [ 1, 2, 1, 0, 0, 1, 1, 0, 0, 0, 0, 0 ]\n",
    ", [ 0, 0, 0, 0, 1, 0, 0, 0, 0, 1, 0, 0 ]\n",
    ", [ 0, 5, 3, 0, 0, 4, 1, 0, 1, 1, 0, 0 ]\n",
    ", [ 1, 10, 0, 0, 3, 0, 0, 0, 0, 0, 0, 0 ]\n",
    ", [ 1, 1, 0, 0, 6, 1, 0, 0, 3, 0, 0, 0 ]\n",
    ", [ 0, 0, 0, 0, 0, 2, 1, 0, 1, 0, 0, 0 ]\n",
    ", [ 0, 1, 0, 0, 0, 11, 0, 0, 0, 5, 0, 0 ]\n",
    ", [ 4, 2, 0, 0, 1, 0, 0, 0, 0, 0, 0, 0 ]\n",
    ", [ 10, 1, 0, 0, 17, 0, 0, 0, 6, 4, 0, 0 ]\n",
    ", [ 3, 3, 0, 0, 2, 0, 0, 0, 0, 0, 0, 0 ]\n",
    ", [ 2, 0, 0, 0, 20, 0, 0, 0, 11, 0, 0, 0 ]\n",
    ", [ 2, 0, 0, 0, 0, 1, 0, 0, 1, 0, 0, 0 ]\n",
    ", [ 9, 16, 6, 0, 0, 2, 0, 0, 14, 1, 7, 0 ]\n",
    ", [ 11, 5, 0, 0, 28, 2, 7, 0, 17, 0, 0, 0 ]\n",
    ", [ 8, 4, 0, 0, 2, 0, 0, 0, 0, 0, 0, 0 ]\n",
    ", [ 0, 4, 0, 0, 1, 3, 0, 0, 1, 0, 0, 0 ]\n",
    ", [ 0, 4, 0, 0, 1, 3, 0, 0, 1, 0, 0, 0 ]\n",
    ", [ 0, 0, 0, 0, 1, 0, 0, 0, 0, 1, 0, 0 ]\n",
    ", [ 16, 8, 0, 0, 8, 7, 0, 0, 0, 0, 0, 0 ]\n",
    ", [ 1, 4, 0, 0, 0, 5, 0, 0, 3, 0, 0, 0 ]\n",
    ", [ 0, 4, 0, 0, 1, 2, 0, 0, 0, 0, 0, 0 ]\n",
    ", [ 0, 0, 0, 0, 0, 2, 1, 0, 1, 0, 0, 0 ]\n",
    ", [ 7, 0, 0, 0, 4, 1, 0, 0, 1, 0, 0, 0 ]\n",
    ", [ 0, 5, 3, 0, 0, 4, 1, 0, 1, 1, 0, 0 ]\n",
    ", [ 6, 0, 0, 0, 4, 1, 0, 0, 1, 0, 0, 0 ]\n",
    ", [ 0, 9, 0, 0, 5, 8, 0, 0, 0, 0, 0, 0 ]\n",
    ", [ 8, 9, 0, 0, 34, 0, 0, 0, 7, 0, 0, 0 ]\n",
    ", [ 0, 0, 0, 0, 0, 0, 1, 0, 3, 0, 0, 0 ]\n",
    ", [ 0, 0, 0, 0, 0, 2, 1, 0, 1, 0, 0, 0 ]\n",
    ", [ 0, 0, 0, 0, 1, 0, 0, 0, 0, 1, 0, 0 ]\n",
    ", [ 6, 0, 0, 0, 3, 1, 0, 0, 1, 0, 0, 0 ]\n",
    ", [ 0, 0, 0, 0, 1, 0, 0, 0, 0, 1, 0, 0 ]\n",
    ", [ 1, 2, 1, 0, 0, 1, 1, 0, 1, 1, 0, 0 ]\n",
    ", [ 0, 0, 0, 0, 1, 0, 0, 0, 0, 1, 0, 0 ]\n",
    ", [ 1, 10, 0, 0, 2, 0, 0, 0, 0, 0, 0, 0 ]\n",
    ", [ 0, 0, 0, 0, 0, 2, 1, 0, 1, 0, 0, 0 ]\n",
    ", [ 5, 2, 0, 0, 0, 1, 0, 0, 1, 0, 0, 0 ]\n",
    ", [ 0, 0, 0, 0, 0, 0, 0, 0, 0, 0, 0, 0 ]\n",
    ", [ 0, 0, 0, 0, 4, 0, 0, 0, 0, 0, 0, 0 ]\n",
    ", [ 1, 2, 1, 0, 0, 2, 1, 0, 0, 1, 0, 0 ]\n",
    ", [ 0, 0, 0, 0, 1, 0, 0, 0, 0, 1, 0, 0 ]\n",
    ", [ 1, 2, 2, 0, 0, 6, 0, 0, 4, 0, 0, 1 ]\n",
    ", [ 9, 16, 6, 0, 0, 2, 0, 0, 14, 1, 7, 0 ]\n",
    ", [ 1, 2, 1, 0, 0, 1, 1, 0, 1, 1, 0, 0 ]\n",
    ", [ 1, 2, 1, 0, 0, 1, 1, 0, 1, 0, 0, 0 ]\n",
    ", [ 2, 2, 2, 0, 0, 5, 0, 0, 4, 0, 0, 0 ]\n",
    ", [ 1, 2, 1, 0, 0, 2, 1, 0, 2, 0, 0, 0 ]\n",
    ", [ 0, 0, 0, 0, 0, 0, 0, 0, 1, 0, 0, 0 ]\n",
    ", [ 6, 0, 0, 0, 3, 1, 0, 0, 1, 0, 0, 0 ]\n",
    ", [ 0, 4, 0, 0, 1, 2, 0, 0, 0, 0, 0, 0 ]\n",
    ", [ 6, 0, 0, 0, 4, 1, 0, 0, 1, 0, 0, 0 ]\n",
    ", [ 0, 0, 0, 0, 1, 0, 0, 0, 0, 1, 0, 0 ]\n",
    ", [ 0, 0, 0, 0, 0, 2, 1, 0, 1, 0, 0, 0 ]\n",
    ", [ 4, 0, 0, 0, 3, 0, 0, 0, 0, 0, 0, 0 ]\n",
    ", [ 13, 11, 3, 0, 6, 12, 1, 0, 11, 4, 0, 1 ]\n",
    ", [ 1, 9, 0, 0, 14, 8, 0, 0, 0, 1, 0, 0 ]\n",
    ", [ 1, 2, 1, 0, 0, 1, 1, 0, 0, 0, 0, 0 ]\n",
    ", [ 0, 0, 0, 0, 0, 0, 0, 0, 2, 0, 0, 1 ]\n",
    ", [ 1, 2, 2, 0, 0, 6, 0, 0, 3, 0, 0, 1 ]\n",
    ", [ 0, 5, 3, 0, 0, 4, 1, 0, 1, 1, 0, 0 ]\n",
    ", [ 0, 0, 0, 0, 0, 0, 0, 0, 0, 351, 0, 0 ]\n",
    ", [ 0, 0, 0, 0, 0, 0, 0, 0, 0, 0, 0, 0 ]\n",
    ", [ 9, 3, 0, 0, 8, 0, 0, 0, 0, 0, 0, 0 ]\n",
    ", [ 0, 0, 0, 0, 0, 0, 0, 0, 0, 1, 0, 0 ]\n",
    ", [ 0, 5, 3, 0, 0, 4, 1, 0, 1, 1, 0, 0 ]\n",
    ", [ 0, 0, 0, 0, 0, 2, 1, 0, 1, 0, 0, 0 ]\n",
    ", [ 3, 3, 0, 0, 2, 0, 0, 0, 0, 0, 0, 0 ]\n",
    ", [ 0, 0, 0, 0, 1, 0, 0, 0, 0, 1, 0, 0 ]\n",
    ", [ 13, 11, 0, 0, 48, 0, 0, 0, 9, 0, 0, 0 ]\n",
    ", [ 1, 1, 0, 0, 6, 1, 0, 0, 3, 0, 0, 0 ]\n",
    ", [ 0, 0, 0, 0, 0, 0, 0, 0, 0, 0, 0, 0 ]\n",
    ", [ 1, 9, 0, 0, 3, 8, 0, 0, 0, 0, 0, 0 ]\n",
    ", [ 6, 0, 0, 0, 3, 1, 0, 0, 1, 0, 0, 0 ]\n",
    ", [ 0, 0, 0, 0, 0, 0, 0, 0, 0, 0, 0, 0 ]\n",
    ", [ 0, 4, 0, 0, 1, 2, 0, 0, 0, 0, 0, 0 ]\n",
    ", [ 5, 0, 0, 0, 2, 0, 0, 0, 0, 0, 0, 0 ]\n",
    ", [ 0, 0, 0, 0, 0, 2, 1, 0, 1, 0, 0, 0 ]\n",
    ", [ 0, 4, 0, 0, 0, 2, 0, 0, 0, 0, 0, 0 ]\n",
    ", [ 0, 0, 0, 0, 0, 4, 0, 0, 4, 0, 0, 0 ]\n",
    ", [ 1, 10, 0, 0, 2, 6, 0, 0, 0, 0, 0, 0 ]\n",
    ", [ 0, 0, 0, 0, 0, 0, 0, 0, 0, 0, 0, 0 ]\n",
    ", [ 5, 2, 2, 0, 3, 4, 0, 0, 4, 0, 0, 0 ]\n",
    ", [ 0, 0, 0, 0, 1, 0, 0, 0, 0, 1, 0, 0 ]\n",
    ", [ 1, 9, 0, 0, 3, 8, 0, 0, 0, 0, 0, 0 ]\n",
    ", [ 9, 3, 0, 0, 8, 0, 0, 0, 0, 0, 0, 0 ]\n",
    ", [ 0, 5, 3, 0, 0, 4, 1, 0, 1, 1, 0, 0 ]\n",
    ", [ 0, 0, 0, 0, 1, 0, 0, 0, 0, 1, 0, 0 ]\n",
    ", [ 12, 5, 0, 0, 12, 2, 1, 0, 5, 0, 0, 0 ]\n",
    ", [ 0, 0, 0, 0, 0, 2, 1, 0, 1, 0, 0, 0 ]\n",
    ", [ 8, 4, 0, 0, 4, 0, 0, 0, 0, 0, 0, 0 ]\n",
    ", [ 0, 0, 0, 0, 0, 2, 1, 0, 1, 0, 0, 0 ]\n",
    ", [ 3, 3, 0, 0, 2, 0, 0, 0, 0, 0, 0, 0 ]\n",
    ", [ 0, 1, 0, 0, 0, 11, 0, 0, 0, 5, 0, 0 ]\n",
    ", [ 3, 2, 0, 0, 2, 0, 0, 0, 0, 0, 0, 0 ]\n",
    ", [ 2, 9, 0, 0, 14, 8, 0, 0, 0, 0, 0, 0 ]\n",
    ", [ 0, 5, 3, 0, 0, 4, 1, 0, 1, 1, 0, 0 ]\n",
    ", [ 6, 0, 0, 0, 3, 1, 0, 0, 1, 0, 0, 0 ]\n",
    ", [ 0, 5, 3, 0, 0, 4, 1, 0, 1, 1, 0, 0 ]\n",
    ", [ 1, 2, 1, 0, 0, 1, 1, 0, 1, 1, 0, 0 ]\n",
    ", [ 0, 5, 3, 0, 0, 4, 1, 0, 1, 1, 0, 0 ]\n",
    ", [ 8, 4, 0, 0, 2, 0, 0, 0, 0, 0, 0, 0 ]\n",
    ", [ 0, 4, 0, 0, 1, 3, 0, 0, 1, 0, 0, 0 ]\n",
    ", [ 0, 0, 0, 0, 1, 0, 0, 0, 0, 1, 0, 0 ]\n",
    ", [ 0, 0, 0, 0, 0, 2, 1, 0, 1, 0, 0, 0 ]\n",
    ", [ 6, 0, 0, 0, 3, 1, 0, 0, 1, 0, 0, 0 ]\n",
    ", [ 3, 2, 0, 0, 1, 0, 0, 0, 0, 0, 0, 0 ]\n",
    ", [ 5, 3, 0, 0, 10, 0, 0, 0, 6, 0, 0, 0 ]\n",
    ", [ 0, 5, 3, 0, 0, 4, 1, 0, 1, 1, 0, 0 ]\n",
    ", [ 0, 0, 0, 0, 0, 0, 0, 0, 0, 0, 0, 0 ]\n",
    ", [ 1, 9, 0, 0, 3, 8, 0, 0, 0, 0, 0, 0 ]\n",
    ", [ 1, 2, 1, 0, 0, 1, 1, 0, 0, 0, 0, 0 ]\n",
    ", [ 0, 0, 0, 0, 1, 0, 0, 0, 0, 1, 0, 0 ]\n",
    ", [ 2, 9, 0, 0, 14, 8, 0, 0, 0, 0, 0, 0 ]\n",
    ", [ 36, 74, 0, 0, 0, 9, 2, 0, 7, 0, 0, 0 ]\n",
    ", [ 0, 0, 0, 0, 0, 0, 0, 0, 2, 0, 0, 1 ]\n",
    ", [ 1, 1, 0, 0, 0, 9, 1, 0, 1, 5, 0, 0 ]\n",
    ", [ 2, 9, 0, 0, 7, 8, 0, 0, 0, 0, 0, 0 ]\n",
    ", [ 16, 8, 0, 0, 8, 7, 0, 0, 0, 0, 0, 0 ]\n",
    ", [ 1, 2, 1, 0, 0, 1, 1, 0, 1, 1, 0, 0 ]\n",
    ", [ 2, 2, 2, 0, 0, 5, 0, 0, 4, 0, 0, 0 ]\n",
    ", [ 1, 0, 0, 0, 0, 2, 1, 0, 1, 0, 0, 0 ]\n",
    ", [ 0, 5, 3, 0, 0, 4, 1, 0, 1, 1, 0, 0 ]\n",
    ", [ 0, 0, 0, 0, 0, 0, 0, 0, 2, 0, 0, 1 ]\n",
    ", [ 0, 0, 0, 0, 0, 2, 1, 0, 1, 0, 0, 0 ]\n",
    ", [ 0, 0, 0, 0, 1, 0, 0, 0, 1, 0, 0, 0 ]\n",
    ", [ 0, 0, 0, 0, 0, 0, 0, 0, 1, 0, 0, 1 ]\n",
    ", [ 0, 5, 3, 0, 0, 4, 1, 0, 1, 1, 0, 0 ]\n",
    ", [ 1, 2, 1, 0, 0, 1, 1, 0, 0, 1, 0, 0 ]\n",
    ", [ 0, 5, 3, 0, 0, 4, 1, 0, 1, 1, 0, 0 ]\n",
    ", [ 6, 9, 0, 0, 28, 0, 0, 0, 7, 0, 0, 0 ]\n",
    ", [ 10, 7, 0, 0, 51, 6, 1, 0, 13, 0, 0, 0 ]\n",
    ", [ 1, 9, 0, 0, 4, 9, 0, 0, 0, 0, 0, 0 ]\n",
    ", [ 0, 0, 0, 0, 1, 0, 0, 0, 0, 1, 0, 0 ]\n",
    ", [ 0, 5, 3, 0, 0, 4, 1, 0, 1, 1, 0, 0 ]\n",
    ", [ 6, 2, 0, 0, 2, 0, 0, 0, 2, 0, 0, 0 ]\n",
    ", [ 0, 0, 0, 0, 1, 0, 0, 0, 0, 1, 0, 0 ]\n",
    ", [ 0, 0, 0, 0, 1, 0, 0, 0, 0, 1, 0, 0 ]\n",
    ", [ 16, 29, 0, 0, 19, 0, 6, 0, 26, 0, 0, 0 ]\n",
    ", [ 0, 4, 0, 0, 0, 2, 0, 0, 1, 0, 0, 0 ]\n",
    ", [ 0, 0, 0, 0, 0, 0, 0, 0, 0, 0, 0, 0 ]\n",
    ", [ 0, 0, 0, 0, 0, 0, 0, 0, 0, 0, 0, 0 ]\n",
    ", [ 1, 2, 1, 0, 0, 1, 1, 0, 1, 1, 0, 0 ]\n",
    ", [ 0, 0, 0, 0, 2, 0, 0, 0, 0, 2, 0, 0 ]\n",
    ", [ 0, 0, 0, 0, 0, 0, 0, 0, 0, 0, 0, 0 ]\n",
    ", [ 0, 0, 0, 0, 0, 2, 1, 0, 1, 0, 0, 0 ]\n",
    ", [ 0, 0, 0, 0, 1, 0, 0, 0, 0, 1, 0, 0 ]\n",
    ", [ 6, 3, 0, 0, 9, 0, 0, 0, 0, 0, 0, 0 ]\n",
    ", [ 10, 1, 0, 0, 17, 0, 0, 0, 6, 4, 0, 0 ]\n",
    ", [ 0, 0, 0, 0, 0, 2, 1, 0, 1, 0, 0, 0 ]\n",
    ", [ 10, 3, 0, 0, 14, 0, 0, 0, 10, 0, 0, 0 ]\n",
    ", [ 7, 0, 0, 0, 3, 1, 0, 0, 1, 0, 0, 0 ]\n",
    ", [ 2, 2, 2, 0, 0, 5, 0, 0, 4, 0, 0, 0 ]\n",
    ", [ 0, 0, 0, 0, 0, 0, 0, 0, 0, 0, 0, 0 ]\n",
    ", [ 0, 5, 3, 0, 0, 4, 1, 0, 1, 1, 0, 0 ]\n",
    ", [ 0, 0, 0, 0, 0, 2, 1, 0, 1, 0, 0, 0 ]\n",
    ", [ 3, 2, 0, 0, 0, 0, 0, 0, 0, 0, 0, 0 ]\n",
    ", [ 0, 5, 3, 0, 0, 4, 1, 0, 1, 1, 0, 0 ]\n",
    ", [ 5, 2, 0, 0, 4, 0, 0, 0, 0, 0, 0, 0 ]\n",
    ", [ 0, 0, 0, 0, 0, 0, 0, 0, 0, 0, 0, 0 ]\n",
    ", [ 0, 0, 0, 0, 0, 0, 0, 0, 0, 1, 0, 0 ]\n",
    ", [ 10, 2, 0, 0, 8, 0, 0, 0, 0, 0, 0, 0 ]\n",
    ", [ 0, 0, 0, 0, 1, 0, 0, 0, 0, 1, 0, 0 ] ]\n",
    "    \n",
    "X = np.array(dataArray)\n",
    "print(X.shape)  # 150 samples with 2 dimensions\n",
    "# plt.scatter(X[:,0], X[:,1])\n",
    "# plt.show()"
   ]
  },
  {
   "cell_type": "code",
   "execution_count": 210,
   "metadata": {},
   "outputs": [],
   "source": [
    "# generate the linkage matrix\n",
    "Z = linkage(X, 'ward')\n",
    "# Z = linkage(X, 'single')"
   ]
  },
  {
   "cell_type": "code",
   "execution_count": 216,
   "metadata": {},
   "outputs": [
    {
     "name": "stdout",
     "output_type": "stream",
     "text": [
      "[167.99959 167.99959 167.99959 ...  45.7142    7.75957  45.7142 ]\n"
     ]
    }
   ],
   "source": [
    "from scipy.cluster.hierarchy import cophenet\n",
    "from scipy.spatial.distance import pdist\n",
    "\n",
    "c, coph_dists = cophenet(Z, pdist(X))\n",
    "print(coph_dists)"
   ]
  },
  {
   "cell_type": "code",
   "execution_count": 225,
   "metadata": {},
   "outputs": [
    {
     "name": "stdout",
     "output_type": "stream",
     "text": [
      "1>> [63. 89.  0.  2.]\n",
      "1>> [ 7. 16.  1.  2.]\n",
      "1>> [26. 83.  0.  2.]\n",
      "1>> [180. 300.   0.   5.]\n",
      "1>> [140. 211.   0.   3.]\n",
      "1>> [161. 280.   0.   3.]\n",
      "1>> [197. 278.   0.  13.]\n",
      "1>> [ 35.      310.        1.29099   3.     ]\n",
      "1>> [236.      299.        1.54919   5.     ]\n",
      "1>> [190. 305.   0.   4.]\n",
      "1>> [123. 237.   0.   3.]\n",
      "1>> [148. 244.   0.   4.]\n",
      "1>> [322.      328.        2.04707   7.     ]\n",
      "1>> [143. 241.   0.   6.]\n",
      "1>> [  4.      206.        1.26491   5.     ]\n",
      "1>> [320.     343.       2.8673  21.    ]\n",
      "1>> [21. 85.  0.  2.]\n",
      "1>> [  5.      196.        2.23607   2.     ]\n",
      "1>> [242.      327.        1.97484  10.     ]\n",
      "1>> [ 15.      145.        3.16228   2.     ]\n",
      "1>> [ 75.      173.        2.64575   2.     ]\n",
      "1>> [113. 213.   0.   3.]\n",
      "1>> [341.      342.        5.66274   5.     ]\n",
      "1>> [ 43. 108.   0.   2.]\n",
      "1>> [ 47. 186.   0.   2.]\n",
      "1>> [ 77.     335.       4.3348  23.    ]\n",
      "1>> [159.      269.        1.37199  17.     ]\n",
      "1>> [42. 73.  1.  2.]\n",
      "1>> [ 17.      228.        1.36931  16.     ]\n",
      "1>> [ 14. 118.   2.   2.]\n",
      "1>> [363.      364.       10.61521  19.     ]\n",
      "1>> [120.      360.        6.50214   9.     ]\n",
      "1>> [ 94.      307.        1.63299   3.     ]\n",
      "1>> [154.      256.        3.24037   4.     ]\n",
      "1>> [ 49.      375.       13.91471   7.     ]\n",
      "1>> [358.      365.        7.75957  52.     ]\n",
      "1>> [185.      334.        4.51664   6.     ]\n",
      "1>> [107.      169.        9.32738   2.     ]\n",
      "1>> [329.      369.       22.65041  13.     ]\n",
      "1>> [370.      373.       14.55752  83.     ]\n",
      "1>> [ 81. 209.   0.   3.]\n",
      "1>> [387.      389.       38.46692  54.     ]\n",
      "1>> [ 13.      176.       15.23155   2.     ]\n",
      "1>> [302.      390.       45.03486  13.     ]\n",
      "1>> [ 36. 152.   0.   2.]\n",
      "1>> [393.      396.       72.07203 190.     ]\n"
     ]
    }
   ],
   "source": [
    "# idx >= len(X) actually refer to the cluster formed in Z[idx - len(X)].\n",
    "\n",
    "for cst in Z:\n",
    "    c = cst\n",
    "    depth = 4\n",
    "    while(cst[0] >= len(X)):\n",
    "        \n",
    "    if (cst[0] >= len(X)):\n",
    "        c=Z[int(cst[0]-len(X))]\n",
    "        if (c[0] >= len(X)):\n",
    "            print(\"1>>\", Z[int(c[0]-len(X))])\n",
    "    if (cst[1] >= len(X)):\n",
    "        c=Z[int(cst[1]-len(X))]\n",
    "        if (c[0] >= len(X)):\n",
    "            print(\"1>>\", Z[int(c[0]-len(X))])\n",
    "# [idx1, idx2, dist, sample_count]."
   ]
  },
  {
   "cell_type": "markdown",
   "metadata": {},
   "source": [
    "# Plotting a Dendrogra"
   ]
  },
  {
   "cell_type": "code",
   "execution_count": 198,
   "metadata": {},
   "outputs": [
    {
     "data": {
      "image/png": "[encoded data removed]",
      "text/plain": [
       "<Figure size 1800x720 with 1 Axes>"
      ]
     },
     "metadata": {},
     "output_type": "display_data"
    }
   ],
   "source": [
    "# calculate full dendrogram\n",
    "plt.figure(figsize=(25, 10))\n",
    "plt.title('Hierarchical Clustering Dendrogram')\n",
    "plt.xlabel('sample index')\n",
    "plt.ylabel('distance')\n",
    "dendrogram(\n",
    "    Z,\n",
    "    leaf_rotation=90.,  # rotates the x axis labels\n",
    "    leaf_font_size=8.,  # font size for the x axis labels\n",
    ")\n",
    "plt.show()"
   ]
  },
  {
   "cell_type": "markdown",
   "metadata": {},
   "source": [
    "### Dendrogram Truncation"
   ]
  },
  {
   "cell_type": "code",
   "execution_count": 199,
   "metadata": {},
   "outputs": [],
   "source": [
    "def fancy_dendrogram(*args, **kwargs):\n",
    "    max_d = kwargs.pop('max_d', None)\n",
    "    if max_d and 'color_threshold' not in kwargs:\n",
    "        kwargs['color_threshold'] = max_d\n",
    "    annotate_above = kwargs.pop('annotate_above', 0)\n",
    "\n",
    "    ddata = dendrogram(*args, **kwargs)\n",
    "\n",
    "    if not kwargs.get('no_plot', False):\n",
    "        plt.title('Hierarchical Clustering Dendrogram (truncated)')\n",
    "        plt.xlabel('sample index or (cluster size)')\n",
    "        plt.ylabel('distance')\n",
    "        for i, d, c in zip(ddata['icoord'], ddata['dcoord'], ddata['color_list']):\n",
    "            x = 0.5 * sum(i[1:3])\n",
    "            y = d[1]\n",
    "            if y > annotate_above:\n",
    "                plt.plot(x, y, 'o', c=c)\n",
    "                plt.annotate(\"%.3g\" % y, (x, y), xytext=(0, -5),\n",
    "                             textcoords='offset points',\n",
    "                             va='top', ha='center')\n",
    "        if max_d:\n",
    "            plt.axhline(y=max_d, c='k')\n",
    "    return ddata"
   ]
  },
  {
   "cell_type": "code",
   "execution_count": 200,
   "metadata": {},
   "outputs": [
    {
     "data": {
      "image/png": "[encoded data removed]",
      "text/plain": [
       "<Figure size 432x288 with 1 Axes>"
      ]
     },
     "metadata": {},
     "output_type": "display_data"
    }
   ],
   "source": [
    "fancy_dendrogram(\n",
    "    Z,\n",
    "    truncate_mode='lastp',\n",
    "    p=12,\n",
    "    leaf_rotation=90.,\n",
    "    leaf_font_size=12.,\n",
    "    show_contracted=True,\n",
    "    annotate_above=10,  # useful in small plots so annotations don't overlap\n",
    ")\n",
    "plt.show()"
   ]
  },
  {
   "cell_type": "markdown",
   "metadata": {},
   "source": [
    "### Selecting a Distance Cut-Off aka Determining the Number of Clusters"
   ]
  },
  {
   "cell_type": "code",
   "execution_count": 201,
   "metadata": {},
   "outputs": [
    {
     "data": {
      "image/png": "[encoded data removed]",
      "text/plain": [
       "<Figure size 432x288 with 1 Axes>"
      ]
     },
     "metadata": {},
     "output_type": "display_data"
    }
   ],
   "source": [
    "# set cut-off to 50\n",
    "max_d = 50  # max_d as in max_distance\n",
    "fancy_dendrogram(\n",
    "    Z,\n",
    "    truncate_mode='lastp',\n",
    "    p=12,\n",
    "    leaf_rotation=90.,\n",
    "    leaf_font_size=12.,\n",
    "    show_contracted=True,\n",
    "    annotate_above=10,\n",
    "    max_d=max_d,  # plot a horizontal cut-off line\n",
    ")\n",
    "plt.show()"
   ]
  },
  {
   "cell_type": "code",
   "execution_count": 244,
   "metadata": {},
   "outputs": [
    {
     "name": "stdout",
     "output_type": "stream",
     "text": [
      "99\n"
     ]
    },
    {
     "ename": "NameError",
     "evalue": "name 'Raw' is not defined",
     "output_type": "error",
     "traceback": [
      "\u001b[0;31m---------------------------------------------------------------------------\u001b[0m",
      "\u001b[0;31mNameError\u001b[0m                                 Traceback (most recent call last)",
      "\u001b[0;32m<ipython-input-244-3d5c867b15d1>\u001b[0m in \u001b[0;36m<module>\u001b[0;34m()\u001b[0m\n\u001b[1;32m     11\u001b[0m     \u001b[0mprint\u001b[0m\u001b[0;34m(\u001b[0m\u001b[0mkey\u001b[0m\u001b[0;34m)\u001b[0m\u001b[0;34m\u001b[0m\u001b[0m\n\u001b[1;32m     12\u001b[0m     \u001b[0;32mfor\u001b[0m \u001b[0mv\u001b[0m \u001b[0;32min\u001b[0m \u001b[0mvalue\u001b[0m\u001b[0;34m:\u001b[0m\u001b[0;34m\u001b[0m\u001b[0m\n\u001b[0;32m---> 13\u001b[0;31m         \u001b[0mprint\u001b[0m\u001b[0;34m(\u001b[0m\u001b[0mRaw\u001b[0m\u001b[0;34m[\u001b[0m\u001b[0mv\u001b[0m\u001b[0;34m]\u001b[0m\u001b[0;34m[\u001b[0m\u001b[0;36m0\u001b[0m\u001b[0;34m]\u001b[0m\u001b[0;34m)\u001b[0m\u001b[0;34m\u001b[0m\u001b[0m\n\u001b[0m\u001b[1;32m     14\u001b[0m     \u001b[0mprint\u001b[0m\u001b[0;34m(\u001b[0m\u001b[0;34m\"\\n\"\u001b[0m\u001b[0;34m)\u001b[0m\u001b[0;34m\u001b[0m\u001b[0m\n",
      "\u001b[0;31mNameError\u001b[0m: name 'Raw' is not defined"
     ]
    }
   ],
   "source": [
    "linkage = Z\n",
    "clusternum = 5\n",
    "clustdict = {i:[i] for i in range(len(linkage)+1)}\n",
    "for i in range(len(linkage)-clusternum+1):\n",
    "    clust1= int(linkage[i][0])\n",
    "    clust2= int(linkage[i][1])\n",
    "    clustdict[max(clustdict)+1] = clustdict[clust1] + clustdict[clust2]\n",
    "    del clustdict[clust1], clustdict[clust2]\n",
    "\n",
    "for key, value in clustdict.items():\n",
    "    print(key)\n",
    "    for v in value:\n",
    "        print(Raw[v][0])\n",
    "    print(\"\\n\")"
   ]
  },
  {
   "cell_type": "code",
   "execution_count": null,
   "metadata": {},
   "outputs": [],
   "source": []
  },
  {
   "cell_type": "code",
   "execution_count": null,
   "metadata": {},
   "outputs": [],
   "source": []
  }
 ],
 "metadata": {
  "kernelspec": {
   "display_name": "Python 3",
   "language": "python",
   "name": "python3"
  },
  "language_info": {
   "codemirror_mode": {
    "name": "ipython",
    "version": 3
   },
   "file_extension": ".py",
   "mimetype": "text/x-python",
   "name": "python",
   "nbconvert_exporter": "python",
   "pygments_lexer": "ipython3",
   "version": "3.6.5"
  }
 },
 "nbformat": 4,
 "nbformat_minor": 2
}
